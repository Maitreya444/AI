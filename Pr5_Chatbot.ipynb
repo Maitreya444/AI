{
 "cells": [
  {
   "cell_type": "code",
   "execution_count": null,
   "id": "bbc18984",
   "metadata": {},
   "outputs": [
    {
     "name": "stdout",
     "output_type": "stream",
     "text": [
      "Welcome to our Book-Store. How can I assist you?\n",
      "You: hi\n",
      "Bot:  Welcome to our Book-Store! How can I assist you?\n",
      "You: bookslist\n",
      "Bot:  Our Book-Store includes a variety of books, such as Programming Books and Science Books.\n",
      "You: hi\n",
      "Bot:  Welcome to our Book-Store! How can I assist you?\n"
     ]
    }
   ],
   "source": [
    "import re as regx\n",
    "# Based on regular Expression\n",
    "# Define the responses for each pattern\n",
    "responses = {\n",
    "    r\"hi|hello|hey\": [\"Welcome to our Book-Store! How can I assist you?\"],\n",
    "    r\"menu|bookslist\": [\"Our Book-Store includes a variety of books, such as Programming Books and Science Books.\"],\n",
    "    r\"available\": [\"Sure, let me check availability. Please enter a book name?\"],\n",
    "    r\"hours\": [\"We're open from 10am to 10pm every day.\"],\n",
    "    r\"location|directions\": [\"We're located at 123 Main Street in Nashik. Can I help with directions?\"],\n",
    "    r\"thanks|thank you\": [\"You're welcome!\"],\n",
    "    r\"engineering\": [\"We offer a variety of Bachelor of Engineering and Master of Engineering books, including Computer, IT, and EN & TC Engineering books.\"],\n",
    "    r\"payment\": [\"We have both payment modes. Offline as well as Online Payment\"],\n",
    "    r\"programming\": [\"OOP - Rs. 500, CPP - Rs. 300, C - Rs. 200, Java - Rs. 700\"],\n",
    "    r\"science\": [\"Physics - Rs. 500, Chemistry - Rs. 300, Biology - Rs. 200, Mathematics - Rs. 700\"],\n",
    "    r\"python\": [\"Sorry,This book is out off stock!!!\"]\n",
    "}\n",
    "\n",
    "# Match the user input with the corresponding response\n",
    "def match_response(user_input):\n",
    "    for pattern, response in responses.items():\n",
    "        if regx.search(pattern, user_input, regx.IGNORECASE):\n",
    "            return response\n",
    "    return [\"I'm sorry, I didn't understand your request. Please try again.\"]\n",
    "\n",
    "domain = \"Book-Store\"\n",
    "\n",
    "print(\"Welcome to our Book-Store. How can I assist you?\")\n",
    "\n",
    "while True:\n",
    "    user_input = input(\"You: \")\n",
    "    response = match_response(user_input)\n",
    "    print(\"Bot: \",response[0])"
   ]
  },
  {
   "cell_type": "code",
   "execution_count": null,
   "id": "be86ee88",
   "metadata": {},
   "outputs": [],
   "source": []
  },
  {
   "cell_type": "code",
   "execution_count": null,
   "id": "29cdf2d1",
   "metadata": {},
   "outputs": [],
   "source": []
  },
  {
   "cell_type": "code",
   "execution_count": null,
   "id": "b915c0a1",
   "metadata": {},
   "outputs": [],
   "source": []
  }
 ],
 "metadata": {
  "kernelspec": {
   "display_name": "Python 3 (ipykernel)",
   "language": "python",
   "name": "python3"
  },
  "language_info": {
   "codemirror_mode": {
    "name": "ipython",
    "version": 3
   },
   "file_extension": ".py",
   "mimetype": "text/x-python",
   "name": "python",
   "nbconvert_exporter": "python",
   "pygments_lexer": "ipython3",
   "version": "3.9.13"
  }
 },
 "nbformat": 4,
 "nbformat_minor": 5
}
